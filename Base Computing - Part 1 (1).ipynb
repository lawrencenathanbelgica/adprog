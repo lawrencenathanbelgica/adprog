{
 "cells": [
  {
   "cell_type": "markdown",
   "id": "31f0cec7",
   "metadata": {},
   "source": [
    "# This is my notebook in ECE 2112!"
   ]
  },
  {
   "cell_type": "markdown",
   "id": "b7e35e78",
   "metadata": {},
   "source": [
    "#### Python Base Types - these are the data types in Python"
   ]
  },
  {
   "cell_type": "code",
   "execution_count": null,
   "id": "fa1cf68e",
   "metadata": {},
   "outputs": [],
   "source": [
    "type(346)"
   ]
  },
  {
   "cell_type": "code",
   "execution_count": null,
   "id": "6558b02c",
   "metadata": {},
   "outputs": [],
   "source": [
    "type(45.3)"
   ]
  },
  {
   "cell_type": "code",
   "execution_count": null,
   "id": "a6895b4b",
   "metadata": {},
   "outputs": [],
   "source": [
    "type('c')"
   ]
  },
  {
   "cell_type": "code",
   "execution_count": null,
   "id": "9ebbddce",
   "metadata": {},
   "outputs": [],
   "source": [
    "type(True)"
   ]
  },
  {
   "cell_type": "markdown",
   "id": "309ab2c1",
   "metadata": {},
   "source": [
    "#### Python Type Conversion"
   ]
  },
  {
   "cell_type": "markdown",
   "id": "07cd70f3",
   "metadata": {},
   "source": [
    "How will I convert 34.5 to integer?"
   ]
  },
  {
   "cell_type": "code",
   "execution_count": null,
   "id": "67167b97",
   "metadata": {},
   "outputs": [],
   "source": [
    "int(34.5)"
   ]
  },
  {
   "cell_type": "markdown",
   "id": "cc7fc369",
   "metadata": {},
   "source": [
    "How will I convert 45 to float?"
   ]
  },
  {
   "cell_type": "code",
   "execution_count": null,
   "id": "1ea44f5f",
   "metadata": {},
   "outputs": [],
   "source": [
    "float(45)"
   ]
  },
  {
   "cell_type": "markdown",
   "id": "921ac322",
   "metadata": {},
   "source": [
    "#### Operations on INTs and FLOATs"
   ]
  },
  {
   "cell_type": "code",
   "execution_count": null,
   "id": "350554e8",
   "metadata": {},
   "outputs": [],
   "source": [
    "#Addition\n",
    "78+85"
   ]
  },
  {
   "cell_type": "code",
   "execution_count": null,
   "id": "9d7b7680",
   "metadata": {},
   "outputs": [],
   "source": [
    "#Subtraction\n",
    "78-85"
   ]
  },
  {
   "cell_type": "code",
   "execution_count": null,
   "id": "2f3f77f0",
   "metadata": {},
   "outputs": [],
   "source": [
    "#Multiplication\n",
    "78*85"
   ]
  },
  {
   "cell_type": "code",
   "execution_count": null,
   "id": "2d7fe5d4",
   "metadata": {},
   "outputs": [],
   "source": [
    "#Exponentiation\n",
    "78**85"
   ]
  },
  {
   "cell_type": "code",
   "execution_count": null,
   "id": "bc5304e2",
   "metadata": {},
   "outputs": [],
   "source": [
    "#Division (Float) - isang dash lang\n",
    "20/6"
   ]
  },
  {
   "cell_type": "code",
   "execution_count": null,
   "id": "0f2195a6",
   "metadata": {},
   "outputs": [],
   "source": [
    "#Division (Int) - dalawang slash\n",
    "20//6"
   ]
  },
  {
   "cell_type": "code",
   "execution_count": null,
   "id": "4689e543",
   "metadata": {},
   "outputs": [],
   "source": [
    "#Modulo - remainder\n",
    "20%6"
   ]
  },
  {
   "cell_type": "markdown",
   "id": "93fce01a",
   "metadata": {},
   "source": [
    "#### Operations on Strings"
   ]
  },
  {
   "cell_type": "markdown",
   "id": "e8607805",
   "metadata": {},
   "source": [
    "Strings - letters, special characters, spaces, digits that are enclosed in a pair of either single or double quotation marks."
   ]
  },
  {
   "cell_type": "code",
   "execution_count": null,
   "id": "00cd1967",
   "metadata": {},
   "outputs": [],
   "source": [
    "s = \"Advanced Programming\""
   ]
  },
  {
   "cell_type": "code",
   "execution_count": null,
   "id": "24f15c53",
   "metadata": {},
   "outputs": [],
   "source": [
    "s.swapcase()"
   ]
  },
  {
   "cell_type": "code",
   "execution_count": null,
   "id": "ab2b543b",
   "metadata": {},
   "outputs": [],
   "source": [
    "#Dependent on ASCII codes\n",
    "max(s)"
   ]
  },
  {
   "cell_type": "code",
   "execution_count": null,
   "id": "6c3f4e88",
   "metadata": {},
   "outputs": [],
   "source": [
    "s.isupper()"
   ]
  },
  {
   "cell_type": "code",
   "execution_count": null,
   "id": "91e2a933",
   "metadata": {},
   "outputs": [],
   "source": [
    "s.replace(\"m\", \"*\")"
   ]
  },
  {
   "cell_type": "code",
   "execution_count": null,
   "id": "d1cadb40",
   "metadata": {},
   "outputs": [],
   "source": [
    "x = \"gram\" in s\n",
    "x"
   ]
  },
  {
   "cell_type": "code",
   "execution_count": null,
   "id": "79bc9ec3",
   "metadata": {},
   "outputs": [],
   "source": [
    "#Slicing - string_name[index ng first element: number of characters: increment]\n",
    "s[0:20:4]"
   ]
  },
  {
   "cell_type": "code",
   "execution_count": null,
   "id": "2f124945",
   "metadata": {},
   "outputs": [],
   "source": [
    "txt = \"I love {}\"\n",
    "txt.format(s)"
   ]
  },
  {
   "cell_type": "markdown",
   "id": "02cbf234",
   "metadata": {},
   "source": [
    "### Python Data Structures"
   ]
  },
  {
   "cell_type": "markdown",
   "id": "a8e786c1",
   "metadata": {},
   "source": [
    "Python Data Structures - any objects that holds arbitrary number of objects."
   ]
  },
  {
   "cell_type": "markdown",
   "id": "be8d0e28",
   "metadata": {},
   "source": [
    "##### List - is a collection of data which uses straight brackets [  ] and commas to separate the object."
   ]
  },
  {
   "cell_type": "code",
   "execution_count": null,
   "id": "55dc5da0",
   "metadata": {},
   "outputs": [],
   "source": [
    "m = [\"apple\", \"banana\", \"cherry\"]"
   ]
  },
  {
   "cell_type": "code",
   "execution_count": null,
   "id": "f4a9458c",
   "metadata": {},
   "outputs": [],
   "source": [
    "print(m[1])"
   ]
  },
  {
   "cell_type": "code",
   "execution_count": null,
   "id": "9da0b2fd",
   "metadata": {},
   "outputs": [],
   "source": [
    "print(m[-1])"
   ]
  },
  {
   "cell_type": "code",
   "execution_count": null,
   "id": "7bb5e5f1",
   "metadata": {},
   "outputs": [],
   "source": [
    "m.append(\"mango\")\n",
    "m"
   ]
  },
  {
   "cell_type": "code",
   "execution_count": null,
   "id": "07eee3e2",
   "metadata": {},
   "outputs": [],
   "source": [
    "m.insert(2,\"orange\")\n",
    "m"
   ]
  },
  {
   "cell_type": "code",
   "execution_count": null,
   "id": "5108b7ca",
   "metadata": {},
   "outputs": [],
   "source": [
    "m.remove(\"banana\")\n",
    "m"
   ]
  },
  {
   "cell_type": "code",
   "execution_count": null,
   "id": "c06077cd",
   "metadata": {},
   "outputs": [],
   "source": [
    "m.sort()\n",
    "m"
   ]
  },
  {
   "cell_type": "code",
   "execution_count": null,
   "id": "8073922e",
   "metadata": {},
   "outputs": [],
   "source": [
    "del m[1]\n",
    "m"
   ]
  },
  {
   "cell_type": "markdown",
   "id": "52758636",
   "metadata": {},
   "source": [
    "##### Dictionary - uses curly braces and colons to signify the keys to their associated values"
   ]
  },
  {
   "cell_type": "code",
   "execution_count": null,
   "id": "8d73882a",
   "metadata": {},
   "outputs": [],
   "source": [
    "d = {\"brand\":\"Mitsubishi\", \"model\":\"Mirage\", \"year\": 2018}\n",
    "d"
   ]
  },
  {
   "cell_type": "code",
   "execution_count": null,
   "id": "539039d0",
   "metadata": {},
   "outputs": [],
   "source": [
    "d.get(\"model\")"
   ]
  },
  {
   "cell_type": "code",
   "execution_count": null,
   "id": "d14a1876",
   "metadata": {},
   "outputs": [],
   "source": [
    "d[\"color\"] = \"pink\"\n",
    "d"
   ]
  },
  {
   "cell_type": "code",
   "execution_count": null,
   "id": "f269f6c1",
   "metadata": {},
   "outputs": [],
   "source": [
    "d.keys()"
   ]
  },
  {
   "cell_type": "code",
   "execution_count": null,
   "id": "f5f18513",
   "metadata": {},
   "outputs": [],
   "source": [
    "d.pop(\"model\")\n",
    "d"
   ]
  },
  {
   "cell_type": "code",
   "execution_count": null,
   "id": "f1b79e8b",
   "metadata": {},
   "outputs": [],
   "source": [
    "d.popitem()\n",
    "d"
   ]
  },
  {
   "cell_type": "markdown",
   "id": "c5b0aeef",
   "metadata": {},
   "source": [
    "##### Tuple - collection of data which is immutable"
   ]
  },
  {
   "cell_type": "code",
   "execution_count": 2,
   "id": "0d89710b",
   "metadata": {},
   "outputs": [
    {
     "data": {
      "text/plain": [
       "('apple', 'banana', 'cherry', 'mango', 'orange')"
      ]
     },
     "execution_count": 2,
     "metadata": {},
     "output_type": "execute_result"
    }
   ],
   "source": [
    "t = \"apple\", \"banana\", \"cherry\", \"mango\", \"orange\"\n",
    "t"
   ]
  },
  {
   "cell_type": "code",
   "execution_count": null,
   "id": "c0794f53",
   "metadata": {},
   "outputs": [],
   "source": [
    "print(t[1])"
   ]
  },
  {
   "cell_type": "code",
   "execution_count": null,
   "id": "497c3238",
   "metadata": {},
   "outputs": [],
   "source": [
    "print(t[-2])"
   ]
  },
  {
   "cell_type": "code",
   "execution_count": 3,
   "id": "bfc954c6",
   "metadata": {},
   "outputs": [
    {
     "name": "stdout",
     "output_type": "stream",
     "text": [
      "('cherry',)\n"
     ]
    }
   ],
   "source": [
    "print(t[2:3])"
   ]
  },
  {
   "cell_type": "code",
   "execution_count": null,
   "id": "befac93a",
   "metadata": {},
   "outputs": [],
   "source": [
    "t[2] = \"orange\""
   ]
  },
  {
   "cell_type": "code",
   "execution_count": null,
   "id": "f22e5fb9",
   "metadata": {},
   "outputs": [],
   "source": [
    "len(t)"
   ]
  },
  {
   "cell_type": "code",
   "execution_count": null,
   "id": "1c9136bd",
   "metadata": {},
   "outputs": [],
   "source": [
    "del t\n",
    "t"
   ]
  },
  {
   "cell_type": "markdown",
   "id": "50584ad4",
   "metadata": {},
   "source": [
    "##### Set - collection of unique data elements which is unordered"
   ]
  },
  {
   "cell_type": "code",
   "execution_count": null,
   "id": "046e7c18",
   "metadata": {},
   "outputs": [],
   "source": [
    "s = {\"apple\", \"banana\", \"cherry\", \"cherry\"}\n",
    "s"
   ]
  },
  {
   "cell_type": "code",
   "execution_count": null,
   "id": "28bf5c1c",
   "metadata": {},
   "outputs": [],
   "source": [
    "s.add(\"orange\")\n",
    "s"
   ]
  },
  {
   "cell_type": "code",
   "execution_count": null,
   "id": "9808ad01",
   "metadata": {},
   "outputs": [],
   "source": [
    "s.update([\"mango\", \"grapes\"])\n",
    "s"
   ]
  },
  {
   "cell_type": "code",
   "execution_count": null,
   "id": "8bb918e8",
   "metadata": {},
   "outputs": [],
   "source": [
    "s.remove(\"banana\")\n",
    "s"
   ]
  },
  {
   "cell_type": "code",
   "execution_count": null,
   "id": "d22cf89f",
   "metadata": {},
   "outputs": [],
   "source": [
    "s.pop()\n",
    "s"
   ]
  },
  {
   "cell_type": "markdown",
   "id": "ad947bbc",
   "metadata": {},
   "source": [
    "### Input and Output in Python"
   ]
  },
  {
   "cell_type": "markdown",
   "id": "5c36f76d",
   "metadata": {},
   "source": [
    "#### Input (Strings)\n",
    "\n",
    "Syntax: text = input(\"\")"
   ]
  },
  {
   "cell_type": "code",
   "execution_count": null,
   "id": "3883624c",
   "metadata": {},
   "outputs": [],
   "source": [
    "p = input(\"Enter your name: \")"
   ]
  },
  {
   "cell_type": "markdown",
   "id": "dbab0cf2",
   "metadata": {},
   "source": [
    "#### Input (Int or Float)\n",
    "\n",
    "Syntax: \n",
    "n = int(input(\"\"))\n",
    "n = float(input(\"\"))"
   ]
  },
  {
   "cell_type": "code",
   "execution_count": null,
   "id": "cdb7a43b",
   "metadata": {},
   "outputs": [],
   "source": [
    "n = int(input(\"Enter a number: \"))"
   ]
  },
  {
   "cell_type": "code",
   "execution_count": null,
   "id": "9646451a",
   "metadata": {},
   "outputs": [],
   "source": [
    "n = float(input(\"Enter a number: \"))"
   ]
  },
  {
   "cell_type": "markdown",
   "id": "08e8fd79",
   "metadata": {},
   "source": [
    "#### Output\n",
    "\n",
    "Syntax: print()"
   ]
  },
  {
   "cell_type": "code",
   "execution_count": null,
   "id": "8bee98c0",
   "metadata": {},
   "outputs": [],
   "source": [
    "print(\"Hello World\")"
   ]
  },
  {
   "cell_type": "code",
   "execution_count": null,
   "id": "aa1d61db",
   "metadata": {},
   "outputs": [],
   "source": [
    "print(n)"
   ]
  },
  {
   "cell_type": "code",
   "execution_count": null,
   "id": "8bf70b2a",
   "metadata": {},
   "outputs": [],
   "source": [
    "print(\"My favorite number is\", n, \"and I used it earlier\")"
   ]
  }
 ],
 "metadata": {
  "kernelspec": {
   "display_name": "Python 3 (ipykernel)",
   "language": "python",
   "name": "python3"
  },
  "language_info": {
   "codemirror_mode": {
    "name": "ipython",
    "version": 3
   },
   "file_extension": ".py",
   "mimetype": "text/x-python",
   "name": "python",
   "nbconvert_exporter": "python",
   "pygments_lexer": "ipython3",
   "version": "3.9.12"
  }
 },
 "nbformat": 4,
 "nbformat_minor": 5
}
