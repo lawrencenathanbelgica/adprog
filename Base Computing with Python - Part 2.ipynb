{
 "cells": [
  {
   "cell_type": "markdown",
   "id": "7edb5401",
   "metadata": {},
   "source": [
    "# Base Computing with Python - Part 2"
   ]
  },
  {
   "cell_type": "markdown",
   "id": "9d941d3f",
   "metadata": {},
   "source": [
    "### Conditional Statement - simple IF statement"
   ]
  },
  {
   "cell_type": "code",
   "execution_count": 1,
   "id": "d9b2f2eb",
   "metadata": {},
   "outputs": [],
   "source": [
    "#Syntax:\n",
    "\n",
    "#if <expr>:\n",
    "    #<statement>"
   ]
  },
  {
   "cell_type": "code",
   "execution_count": 2,
   "id": "57ba9b44",
   "metadata": {},
   "outputs": [
    {
     "name": "stdout",
     "output_type": "stream",
     "text": [
      "b is greater than a\n"
     ]
    }
   ],
   "source": [
    "#Example:\n",
    "a = 33; b = 200\n",
    "if b > a:\n",
    "    print(\"b is greater than a\")"
   ]
  },
  {
   "cell_type": "code",
   "execution_count": 3,
   "id": "fbb1cd51",
   "metadata": {},
   "outputs": [],
   "source": [
    "#Another Syntax:\n",
    "\n",
    "#if <expr>: <statement>"
   ]
  },
  {
   "cell_type": "code",
   "execution_count": 4,
   "id": "ae0c556c",
   "metadata": {},
   "outputs": [
    {
     "name": "stdout",
     "output_type": "stream",
     "text": [
      "b is greater than a\n"
     ]
    }
   ],
   "source": [
    "#Example:\n",
    "a = 33; b = 200\n",
    "if b > a: print(\"b is greater than a\")"
   ]
  },
  {
   "cell_type": "markdown",
   "id": "8c4cb781",
   "metadata": {},
   "source": [
    "### Conditional Statement - compound IF statement"
   ]
  },
  {
   "cell_type": "code",
   "execution_count": 5,
   "id": "c6c780ba",
   "metadata": {},
   "outputs": [],
   "source": [
    "#Syntax:\n",
    "\n",
    "#if <expr>:\n",
    "    #<statement1>\n",
    "    #<statement2>\n",
    "    #<statementn>"
   ]
  },
  {
   "cell_type": "code",
   "execution_count": 6,
   "id": "23114c8f",
   "metadata": {},
   "outputs": [
    {
     "name": "stdout",
     "output_type": "stream",
     "text": [
      "I'm sorry\n",
      "You failed\n"
     ]
    }
   ],
   "source": [
    "#Example:\n",
    "grade = 58\n",
    "if grade < 60:\n",
    "    print(\"I'm sorry\")\n",
    "    print(\"You failed\")"
   ]
  },
  {
   "cell_type": "code",
   "execution_count": 7,
   "id": "b8085256",
   "metadata": {},
   "outputs": [],
   "source": [
    "#Another Syntax:\n",
    "\n",
    "#if <expr>: <statement1>; <statement2> ... <statement1n> "
   ]
  },
  {
   "cell_type": "code",
   "execution_count": 8,
   "id": "fff36ee4",
   "metadata": {},
   "outputs": [
    {
     "name": "stdout",
     "output_type": "stream",
     "text": [
      "I'm sorry\n",
      "You failed\n"
     ]
    }
   ],
   "source": [
    "#Example:\n",
    "grade = 58\n",
    "if grade < 60: print(\"I'm sorry\"); print(\"You failed\")"
   ]
  },
  {
   "cell_type": "markdown",
   "id": "d767cb72",
   "metadata": {},
   "source": [
    "### Conditional Statement - ELSE and ELIF statement"
   ]
  },
  {
   "cell_type": "markdown",
   "id": "f59b9c49",
   "metadata": {},
   "source": [
    "#### Using ELIF and ELSE in an IF statement"
   ]
  },
  {
   "cell_type": "code",
   "execution_count": 9,
   "id": "427e89e4",
   "metadata": {},
   "outputs": [],
   "source": [
    "#Syntax:\n",
    "\n",
    "#if <expr>:\n",
    "    #<statement1>\n",
    "#elif <expr>:    \n",
    "    #<statement2>\n",
    "#elif <expr>:    \n",
    "    #<statement3>\n",
    "#else:\n",
    "    #<statement4>"
   ]
  },
  {
   "cell_type": "code",
   "execution_count": 10,
   "id": "33afb893",
   "metadata": {},
   "outputs": [
    {
     "name": "stdout",
     "output_type": "stream",
     "text": [
      "b is equal to a\n"
     ]
    }
   ],
   "source": [
    "#Example:\n",
    "a = 33; b = 33\n",
    "if b > a:\n",
    "    print(\"b is greater than a\")\n",
    "elif b == a:\n",
    "    print(\"b is equal to a\")\n",
    "else:\n",
    "    print(\"b is less than a\")"
   ]
  },
  {
   "cell_type": "markdown",
   "id": "8a398a84",
   "metadata": {},
   "source": [
    "#### Using ELSE in an IF statement (1 liner)"
   ]
  },
  {
   "cell_type": "code",
   "execution_count": 11,
   "id": "729bd676",
   "metadata": {},
   "outputs": [],
   "source": [
    "#Syntax:\n",
    "\n",
    "#<statement_True> if <expr> else <statement_False>"
   ]
  },
  {
   "cell_type": "code",
   "execution_count": 12,
   "id": "c7cd4be7",
   "metadata": {},
   "outputs": [
    {
     "name": "stdout",
     "output_type": "stream",
     "text": [
      "B\n"
     ]
    }
   ],
   "source": [
    "a = 20; b = 33\n",
    "print(\"A\") if a > b else print(\"B\")"
   ]
  },
  {
   "cell_type": "markdown",
   "id": "dbe71773",
   "metadata": {},
   "source": [
    "### Pass Statement - used when a statement is required syntactically but you do not want any command or code to execute"
   ]
  },
  {
   "cell_type": "code",
   "execution_count": 13,
   "id": "d2c5fedd",
   "metadata": {},
   "outputs": [],
   "source": [
    "#Syntax:\n",
    "\n",
    "#if <expr>:\n",
    "    #pass\n",
    "    \n",
    "#<statements>"
   ]
  },
  {
   "cell_type": "code",
   "execution_count": 14,
   "id": "0be412c0",
   "metadata": {},
   "outputs": [],
   "source": [
    "if a > b:\n",
    "    pass #do nothing"
   ]
  },
  {
   "cell_type": "markdown",
   "id": "9eca7e9b",
   "metadata": {},
   "source": [
    "### Looping Statement"
   ]
  },
  {
   "cell_type": "markdown",
   "id": "e7392291",
   "metadata": {},
   "source": [
    "#### for loop - need of sequence (string, set, list, dictionary, tuple)"
   ]
  },
  {
   "cell_type": "code",
   "execution_count": 15,
   "id": "e521e989",
   "metadata": {},
   "outputs": [],
   "source": [
    "#Syntax:\n",
    "\n",
    "#for iterating_var in sequence:\n",
    "    #statement"
   ]
  },
  {
   "cell_type": "code",
   "execution_count": 16,
   "id": "7a9e32d9",
   "metadata": {},
   "outputs": [
    {
     "name": "stdout",
     "output_type": "stream",
     "text": [
      "b\n",
      "a\n",
      "n\n",
      "a\n",
      "n\n",
      "a\n"
     ]
    }
   ],
   "source": [
    "for x in \"banana\":\n",
    "    print(x)"
   ]
  },
  {
   "cell_type": "markdown",
   "id": "bf6b6ed5",
   "metadata": {},
   "source": [
    "#### Break Statement - stops the loop before it has looped all through items"
   ]
  },
  {
   "cell_type": "code",
   "execution_count": 17,
   "id": "1240aafd",
   "metadata": {},
   "outputs": [
    {
     "name": "stdout",
     "output_type": "stream",
     "text": [
      "apple\n",
      "banana\n"
     ]
    }
   ],
   "source": [
    "fruits = [\"apple\", \"banana\", \"cherry\", \"mango\"]\n",
    "for x in fruits:\n",
    "    print(x)\n",
    "    if x == \"banana\":\n",
    "        break"
   ]
  },
  {
   "cell_type": "markdown",
   "id": "1a52dcf9",
   "metadata": {},
   "source": [
    "#### Continue Statement - stops at the current iteration then proceeds to the next"
   ]
  },
  {
   "cell_type": "code",
   "execution_count": 18,
   "id": "ce2e262d",
   "metadata": {},
   "outputs": [
    {
     "name": "stdout",
     "output_type": "stream",
     "text": [
      "apple\n",
      "cherry\n",
      "mango\n"
     ]
    }
   ],
   "source": [
    "fruits = [\"apple\", \"banana\", \"cherry\", \"mango\"]\n",
    "for x in fruits:\n",
    "    if x == \"banana\":\n",
    "        continue\n",
    "    print(x)"
   ]
  },
  {
   "cell_type": "markdown",
   "id": "16586e6d",
   "metadata": {},
   "source": [
    "#### while statement"
   ]
  },
  {
   "cell_type": "code",
   "execution_count": 19,
   "id": "565125eb",
   "metadata": {},
   "outputs": [],
   "source": [
    "#Syntax:\n",
    "\n",
    "#Note: if the expression is TRUE, uulit ako. kapag hindi, eexit na ng loop\n",
    "\n",
    "#while expression: \n",
    "    #statement"
   ]
  },
  {
   "cell_type": "code",
   "execution_count": 20,
   "id": "d4945316",
   "metadata": {},
   "outputs": [
    {
     "name": "stdout",
     "output_type": "stream",
     "text": [
      "1\n",
      "2\n",
      "3\n",
      "4\n",
      "5\n"
     ]
    }
   ],
   "source": [
    "i = 1\n",
    "while i < 6:\n",
    "    print(i)\n",
    "    i += 1 # i = i+1"
   ]
  },
  {
   "cell_type": "markdown",
   "id": "8aa02469",
   "metadata": {},
   "source": [
    "### Functions (Built-in) - readily available from the library"
   ]
  },
  {
   "cell_type": "code",
   "execution_count": 21,
   "id": "47ad4616",
   "metadata": {},
   "outputs": [],
   "source": [
    "from math import * #* - all\n",
    "\n",
    "x = tan(pi/4)\n",
    "y = round(47.8)"
   ]
  },
  {
   "cell_type": "markdown",
   "id": "905fb4ea",
   "metadata": {},
   "source": [
    "#### Functions (Custom) - user-defined"
   ]
  },
  {
   "cell_type": "code",
   "execution_count": 22,
   "id": "5b9eccaa",
   "metadata": {},
   "outputs": [
    {
     "name": "stdout",
     "output_type": "stream",
     "text": [
      "Hello Madee\n"
     ]
    }
   ],
   "source": [
    "#Syntax:\n",
    "#def <name ng function>(arguments/input)\n",
    "#print - strings    \n",
    "\n",
    "def my_function(name):\n",
    "\tprint(\"Hello \" + name)\n",
    "\n",
    "my_function(\"Madee\")"
   ]
  },
  {
   "cell_type": "code",
   "execution_count": 23,
   "id": "dedb7b91",
   "metadata": {},
   "outputs": [
    {
     "data": {
      "text/plain": [
       "15"
      ]
     },
     "execution_count": 23,
     "metadata": {},
     "output_type": "execute_result"
    }
   ],
   "source": [
    "#Syntax:\n",
    "#def <name ng function>(arguments/input)\n",
    "#return - numbers  \n",
    "\n",
    "def my_function(x):\n",
    "    y = 5 * x\n",
    "    return y\n",
    "\n",
    "my_function(3)"
   ]
  },
  {
   "cell_type": "code",
   "execution_count": 24,
   "id": "e0dead04",
   "metadata": {},
   "outputs": [
    {
     "name": "stdout",
     "output_type": "stream",
     "text": [
      "apple\n",
      "banana\n"
     ]
    }
   ],
   "source": [
    "fruits = [\"apple\", \"banana\"]\n",
    "\n",
    "def my_function(food):\n",
    "\tfor x in food:\n",
    "\t\tprint(x)\n",
    "\n",
    "my_function(fruits)\n",
    "\n",
    "#fruits == food"
   ]
  },
  {
   "cell_type": "code",
   "execution_count": 25,
   "id": "c163f24b",
   "metadata": {},
   "outputs": [
    {
     "data": {
      "text/plain": [
       "55"
      ]
     },
     "execution_count": 25,
     "metadata": {},
     "output_type": "execute_result"
    }
   ],
   "source": [
    "#Python Demo 1\n",
    "\n",
    "def squaresum(n):\n",
    "    sm = 0\n",
    "    for i in range(1, n+1):\n",
    "        sm = sm+(i**2)\n",
    "    return sm\n",
    "\n",
    "squaresum(5)"
   ]
  },
  {
   "cell_type": "code",
   "execution_count": 26,
   "id": "18538fc4",
   "metadata": {},
   "outputs": [
    {
     "data": {
      "text/plain": [
       "2470.2769"
      ]
     },
     "execution_count": 26,
     "metadata": {},
     "output_type": "execute_result"
    }
   ],
   "source": [
    "#Python Demo 2\n",
    "\n",
    "from math import *\n",
    "def polysum(n,s):\n",
    "    perimeter = n*s\n",
    "    area = (0.25*n*s**2)/tan(pi/n)\n",
    "    op = area + perimeter**2\n",
    "    return round(op,4)\n",
    "\n",
    "polysum(6,8)"
   ]
  },
  {
   "cell_type": "code",
   "execution_count": 27,
   "id": "37ed30ac",
   "metadata": {},
   "outputs": [
    {
     "name": "stdout",
     "output_type": "stream",
     "text": [
      "{1: 1, 2: 4, 3: 9, 4: 16, 5: 25, 6: 36, 7: 49, 8: 64, 9: 81, 10: 100, 11: 121, 12: 144, 13: 169, 14: 196, 15: 225}\n"
     ]
    }
   ],
   "source": [
    "#Python Demo 3\n",
    "\n",
    "d = {} #container for the dictionary na ipi-print\n",
    "for x in range(1,16):\n",
    "    d[x] = x**2\n",
    "    \n",
    "print(d)"
   ]
  }
 ],
 "metadata": {
  "kernelspec": {
   "display_name": "Python 3 (ipykernel)",
   "language": "python",
   "name": "python3"
  },
  "language_info": {
   "codemirror_mode": {
    "name": "ipython",
    "version": 3
   },
   "file_extension": ".py",
   "mimetype": "text/x-python",
   "name": "python",
   "nbconvert_exporter": "python",
   "pygments_lexer": "ipython3",
   "version": "3.9.12"
  }
 },
 "nbformat": 4,
 "nbformat_minor": 5
}
